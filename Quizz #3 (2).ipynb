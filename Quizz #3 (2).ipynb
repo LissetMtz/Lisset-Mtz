{
 "cells": [
  {
   "cell_type": "code",
   "execution_count": 16,
   "metadata": {},
   "outputs": [
    {
     "name": "stdout",
     "output_type": "stream",
     "text": [
      "How many numers do you want to introduce?2\n",
      "Introduce the number for x: 12\n",
      "Introduce the number for x: 13\n",
      "Introduce the number for y: 13\n",
      "Introduce the number for y: 12\n",
      "y=25.0+-1.0x\n"
     ]
    }
   ],
   "source": [
    "Numx = int(input(\"How many numers do you want to introduce?\"))\n",
    "Listx = [] #This helps us to create a list where all the data that we will enter in our program will be stored in x.\n",
    "Listy = [] #This helps us to create a list where all the data that we will enter in our program will be stored in y.\n",
    "\n",
    "\n",
    "#Declaration of variables, they equal zero to clear them of possible galamaties that the system can assign when declaring.\n",
    "Sum_1x = 0\n",
    "Sum_2 = 0\n",
    "Sum_y = 0\n",
    "Sum= 0\n",
    "b1= 0\n",
    "b0= 0\n",
    "Sumxy = 0\n",
    "\n",
    "#Using for to create a loop of numbers taken from 'Nx' in a range of 0 to the number the user put on 'Numx'.\n",
    "for i in range(0, Numx): \n",
    "    Nx = int(input(\"Introduce the number for x: \"))\n",
    "    #Then, each number put on 'Nx' will be added in variable 'Listx'\n",
    "    Listx.append (Nx)\n",
    "    \n",
    "     #In this part of the code with te command for we make a loop since 0 until the value of the variable \"Numx\". \n",
    "for a in range(0, Numx):\n",
    "    Ny = int(input(\"Introduce the number for y: \"))\n",
    "    Listy.append (Ny)  # with this command we save the input data in the list of name \"Listy\".\n",
    "    \n",
    "for r in range(0, Numx):  #It counts from 0 to the value you requested to enter (Numx) in increments of 1.\n",
    "    \n",
    "    #In this part we will make the summatory of the numbers that are in the variables \"Listx\" and \"Listy\".\n",
    "    Sumxy=Sumxy+(Listx[r]*Listy[r])\n",
    "    Sum_1x = Sum_1x+Listx[r]\n",
    "    Sum_y = Sum_y + Listy[r]\n",
    "    Sum_2 = Sum_2+Listx[r]**2 \n",
    "Sum= Sum_1x**2\n",
    "#Finally we get the values of b0 & b1 to do the formula.\n",
    "b1=(Numx*Sumxy-(Sum_1x*Sum_y))/(Numx*Sum_2-Sum) #b1 is the ordinate of the origin.\n",
    "b0=(Sum_y-(b1*Sum_1x))/ Numx  #b0 is the slope of the linear regression.\n",
    "print(f\"y={b0}+{b1}x\")  #This last line of code serves to solve the formula of linear regression.\n",
    "\n",
    "    \n",
    "    \n",
    "    "
   ]
  },
  {
   "cell_type": "markdown",
   "metadata": {},
   "source": [
    "# MEC 3B\n",
    "# Name Student: \n",
    "•Galindo Torres Francisco Alonso\n",
    "•Maldonado Valencia Juan Carlos\n",
    "•Martínez Martínez Lisset Vianey\n",
    "•Medina Galicia Diego Armando\n",
    "•Ramírez Turrubiates José Luis\n",
    "\n"
   ]
  },
  {
   "cell_type": "code",
   "execution_count": null,
   "metadata": {},
   "outputs": [],
   "source": []
  }
 ],
 "metadata": {
  "kernelspec": {
   "display_name": "Python 3",
   "language": "python",
   "name": "python3"
  },
  "language_info": {
   "codemirror_mode": {
    "name": "ipython",
    "version": 3
   },
   "file_extension": ".py",
   "mimetype": "text/x-python",
   "name": "python",
   "nbconvert_exporter": "python",
   "pygments_lexer": "ipython3",
   "version": "3.7.3"
  }
 },
 "nbformat": 4,
 "nbformat_minor": 2
}
