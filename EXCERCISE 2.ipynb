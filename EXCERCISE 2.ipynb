{
 "cells": [
  {
   "cell_type": "markdown",
   "metadata": {},
   "source": [
    "# EXCERCISE 2\n",
    "    "
   ]
  },
  {
   "cell_type": "markdown",
   "metadata": {},
   "source": [
    "Write a code that ask for the quantity of names that the user wants to write and then store them in a list, finally select which postion of the list the user wants to print. "
   ]
  },
  {
   "cell_type": "code",
   "execution_count": 1,
   "metadata": {},
   "outputs": [
    {
     "name": "stdout",
     "output_type": "stream",
     "text": [
      "How many names do you want to introduce?1\n",
      "Introduce the name: lis\n",
      "Which position do you want to print?0\n",
      "lis\n"
     ]
    }
   ],
   "source": [
    "Num = int(input(\"How many names do you want to introduce?\"))\n",
    "List = []\n",
    "\n",
    "for i in range(0,Num):\n",
    "    Name = input(\"Introduce the name: \")\n",
    "    List.append (Name)\n",
    "    \n",
    "while(1):\n",
    "    Position = int(input(\"Which position do you want to print?\"))\n",
    "    if (Position < Num):\n",
    "        print (List[Position])\n",
    "        break\n",
    "    else:\n",
    "        print(\"Try again\")\n",
    "        \n",
    "    "
   ]
  },
  {
   "cell_type": "markdown",
   "metadata": {},
   "source": [
    "### The explanation of the program"
   ]
  },
  {
   "cell_type": "markdown",
   "metadata": {},
   "source": [
    "This section explains all the commands used in the program."
   ]
  },
  {
   "cell_type": "markdown",
   "metadata": {},
   "source": [
    "#### Num = int (input (\"How many names do you want to introduce?\"))"
   ]
  },
  {
   "cell_type": "markdown",
   "metadata": {},
   "source": [
    "It is used to enter a value with the input command and save it in an integer variable such as the int variable."
   ]
  },
  {
   "cell_type": "markdown",
   "metadata": {},
   "source": [
    "#### List = []"
   ]
  },
  {
   "cell_type": "markdown",
   "metadata": {},
   "source": [
    "This helps us to create a list where all the data that we will enter in our program will be stored.\n"
   ]
  },
  {
   "cell_type": "markdown",
   "metadata": {},
   "source": [
    "#### for i in range (0, Num)"
   ]
  },
  {
   "cell_type": "markdown",
   "metadata": {},
   "source": [
    "Loop repeats the instruction block a predetermined number of times."
   ]
  },
  {
   "cell_type": "markdown",
   "metadata": {},
   "source": [
    "#### List.append (Name)"
   ]
  },
  {
   "cell_type": "markdown",
   "metadata": {},
   "source": [
    "This command adds a new item to the list whose reference number is on the list.\n",
    " In our case *Name* the object that is added to the list."
   ]
  },
  {
   "cell_type": "markdown",
   "metadata": {},
   "source": [
    "#### while (1)"
   ]
  },
  {
   "cell_type": "markdown",
   "metadata": {},
   "source": [
    "It is a cycle used to allow unlimited execution of the content of the cycle"
   ]
  },
  {
   "cell_type": "markdown",
   "metadata": {},
   "source": [
    "#### The conditional statement if .... else"
   ]
  },
  {
   "cell_type": "markdown",
   "metadata": {},
   "source": [
    "Execute a statement if a specified condition is evaluated as true. If the condition is evaluated as false, another sentence can be executed."
   ]
  },
  {
   "cell_type": "markdown",
   "metadata": {},
   "source": [
    "#### print (List [Position]) "
   ]
  },
  {
   "cell_type": "markdown",
   "metadata": {},
   "source": [
    "This command will print the name we ordered and which was assigned to a specific position in the list."
   ]
  },
  {
   "cell_type": "markdown",
   "metadata": {},
   "source": [
    "#### break"
   ]
  },
  {
   "cell_type": "markdown",
   "metadata": {},
   "source": [
    "When it is executed, the program exits the loop and continues to execute the rest of the code.\n",
    "In this case that the program contains the if statement that includes an else, it does not execute if the loop is exited with a *break*."
   ]
  },
  {
   "cell_type": "markdown",
   "metadata": {},
   "source": [
    "#### print(\"Try again\")"
   ]
  },
  {
   "cell_type": "markdown",
   "metadata": {},
   "source": [
    "This last line of code serves to explain to the user that the data that is entering the program is incorrect."
   ]
  },
  {
   "cell_type": "markdown",
   "metadata": {},
   "source": [
    "## Team\n",
    "-Galindo Torres Franciso Alonso (Alonso_Torres14)\n",
    "--Martínez Martínez Lisset Vianey (Lisset-Mtz)\n",
    "--Medina Galicia Diego Armando (AccionyCorte)"
   ]
  },
  {
   "cell_type": "code",
   "execution_count": null,
   "metadata": {},
   "outputs": [],
   "source": []
  }
 ],
 "metadata": {
  "kernelspec": {
   "display_name": "Python 3",
   "language": "python",
   "name": "python3"
  },
  "language_info": {
   "codemirror_mode": {
    "name": "ipython",
    "version": 3
   },
   "file_extension": ".py",
   "mimetype": "text/x-python",
   "name": "python",
   "nbconvert_exporter": "python",
   "pygments_lexer": "ipython3",
   "version": "3.7.3"
  }
 },
 "nbformat": 4,
 "nbformat_minor": 2
}
