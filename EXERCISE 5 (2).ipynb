{
 "cells": [
  {
   "cell_type": "markdown",
   "metadata": {},
   "source": [
    "# EXCERCISE 5 "
   ]
  },
  {
   "cell_type": "markdown",
   "metadata": {},
   "source": [
    "Develop a program that calculates trimmed mean.The user have to introduce the set of data and the percentage they want to use."
   ]
  },
  {
   "cell_type": "code",
   "execution_count": 1,
   "metadata": {},
   "outputs": [
    {
     "name": "stdout",
     "output_type": "stream",
     "text": [
      "How many numbers do you want to start?:  5\n",
      "Introduce the values: \n",
      "93\n",
      "112\n",
      "113\n",
      "120\n",
      "122\n",
      "Write 1 for add more values\n",
      "Write 2 for calculate trimmed mean\n",
      "1\n",
      "How many values?: 4\n",
      "127\n",
      "132\n",
      "133\n",
      "136\n",
      "Write 1 for add more values\n",
      "Write 2 for calculate trimmed mean\n",
      "2\n",
      "Data sorted:  [93, 112, 113, 120, 122, 127, 132, 133, 136]\n",
      "Write percentage for trimmed mean: % 20\n",
      "The trimmed mean is: 122.03703703703705\n"
     ]
    }
   ],
   "source": [
    "terms=int(input(\"How many numbers do you want to start?:  \")) # The program asks you to how much values are you going to introduce.\n",
    "data=[] # The variable \"data\" will be the list.\n",
    "# Other variables.\n",
    "L=0 \n",
    "trimmedmean=0\n",
    "sum=0\n",
    "M=0\n",
    "print(\"Introduce the values: \") # It is gonna ask you to write whatever number that you want.\n",
    "for i in range(0, terms): # It is to make the loop from zero to the number what you wrote in the variable \"terms\" for the values that you are gonna introduce.\n",
    "        new_x=int(input()) # The variable \"new_x\" will be the rectangle in which you can write the values.\n",
    "        data.append(new_x) # The variable \"new_x\" could be different, therefore it will be every value of the list.\n",
    "while(1): # The loop starts and it will be infinite.\n",
    "    # There are two options.\n",
    "    print(\"Write 1 for add more values\") # The first option to select.\n",
    "    print(\"Write 2 for calculate trimmed mean\") # The second option to select.\n",
    "    chose=int(input()) # The variable \"chose\" is to write whatever number that you want in order to select one of the two options.\n",
    "    if(chose==1): # If you write \"1\" then you selected the first option.\n",
    "        newterm=int(input(\"How many values?: \")) # The variable \"newterm\" is to say how many more values are you going to add.\n",
    "        for f in range(0, newterm): # It is to make another loop of the list.\n",
    "            new_x=int(input()) # The variable \"new_x\" will be the rectangle in which you can write the values.\n",
    "            data.append(new_x) # The variable \"new_x\" could be different, it will be every new value of the list wh.\n",
    "    elif(chose==2): # If you select the option \"2\" then the program is gonna solve the trimmed mean.\n",
    "        data.sort() # The function sort() is to classify the values of the list \"data\" from least to greatest.\n",
    "        print(\"Data sorted: \",data) # It is gonna show the list.\n",
    "        L=int(input(\"Write percentage for trimmed mean: % \")) # You can write any value of the percentage and it will be saved in the variable \"L\".\n",
    "        L=L/100 # The variable \"L\" calculates what you wrote in the last line diving it by 100 in order to obtain the percentage from 0% to 100%.\n",
    "        P=len(data) # In the variable \"P\" we are going to measure the length of a character string or number of items according to the list \"data\".\n",
    "        H=int(P*L) # The variable \"R\" calculates the multiplication of the measure of the list times the percentage and the result is without decimals.\n",
    "        R=(P*L)-H # It looks that is equal zero, but the difference is that the first term will be in decimals and the second term is integer. All of this is the variable \"R\".\n",
    "        M=H+1 # The variable \"M\" adds 1 to the variable \"H\".\n",
    "        while(M<=P-H-2): # The loop while indicates that the cycle starts with \"M\" and it finishes with the value of \"P\" minus \"H\" minus 2.\n",
    "            sum+=data[i] # The variable \"sum\" is increasing according of each value in the list.\n",
    "            M+=1  # The variable \"M\" is increasing 1 by 1.\n",
    "        part1=(1/(P*(1-2*L))) # The variable \"part1\" calculates the division of 1 divided by \"P\" times 1 minus 2 times \"L\".\n",
    "        trimmedmean=(part1*(((1-R)*(data[H]+data[P-H-1]))+sum)) # Finally, it calculates the trimmed mean with the last values that we founded.\n",
    "        print(f\"The trimmed mean is: {trimmedmean}\") # And then the program shows the variable \"trimmedmean\".\n",
    "        break # Break the loop until the last line\n",
    "    else: # But, if the number of the two options that are there is not \"1\" or \"2\", then:\n",
    "        print(\"Again please\") # You have to select one of the two options that are there or you can do this again and again and again.\n",
    "      "
   ]
  },
  {
   "cell_type": "markdown",
   "metadata": {},
   "source": [
    "# MEC 3B"
   ]
  },
  {
   "cell_type": "markdown",
   "metadata": {},
   "source": [
    "## Name Student:"
   ]
  },
  {
   "cell_type": "markdown",
   "metadata": {},
   "source": [
    "#### • Galindo Torres Francisco Alonso\n",
    "#### • Martínez Martínez Lisset Vianey \n",
    "#### • Medina Galicia Diego Armando"
   ]
  },
  {
   "cell_type": "code",
   "execution_count": null,
   "metadata": {},
   "outputs": [],
   "source": []
  }
 ],
 "metadata": {
  "kernelspec": {
   "display_name": "Python 3",
   "language": "python",
   "name": "python3"
  },
  "language_info": {
   "codemirror_mode": {
    "name": "ipython",
    "version": 3
   },
   "file_extension": ".py",
   "mimetype": "text/x-python",
   "name": "python",
   "nbconvert_exporter": "python",
   "pygments_lexer": "ipython3",
   "version": "3.7.3"
  }
 },
 "nbformat": 4,
 "nbformat_minor": 2
}
