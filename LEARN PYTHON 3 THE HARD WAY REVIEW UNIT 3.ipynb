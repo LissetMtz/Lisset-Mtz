{
 "cells": [
  {
   "cell_type": "markdown",
   "metadata": {},
   "source": [
    "#  LEARN PYTHON 3 THE HARD WAY"
   ]
  },
  {
   "cell_type": "markdown",
   "metadata": {},
   "source": [
    "## REVIEW UNIT 3"
   ]
  },
  {
   "cell_type": "markdown",
   "metadata": {},
   "source": [
    " #### INTRODUCTION"
   ]
  },
  {
   "cell_type": "markdown",
   "metadata": {},
   "source": [
    "In this second review, the author explains programs with more difficult and more kinds of useful code to help the people to understand and try to create their programs.\n",
    "\n",
    "It is necessary to explain more about how to being programming with more exercises and solutions that the book gives us. Now the book explains the different situations with many examples that help the people to continue programming.\n"
   ]
  },
  {
   "cell_type": "markdown",
   "metadata": {},
   "source": [
    "## EXERCISE 13"
   ]
  },
  {
   "cell_type": "markdown",
   "metadata": {},
   "source": [
    "## Parameters, Unpacking, Variables\n"
   ]
  },
  {
   "cell_type": "markdown",
   "metadata": {},
   "source": [
    "This exercise is about one kind of input method that the user could use to pass a variable to a script. It is necessary to call the command as \"argument\".\n",
    "\n",
    "When defining a function the values which are received are called parameters, but during the call, the values that are sent are called arguments."
   ]
  },
  {
   "cell_type": "markdown",
   "metadata": {},
   "source": [
    "#### This is an example of the  exercise 13"
   ]
  },
  {
   "cell_type": "code",
   "execution_count": null,
   "metadata": {},
   "outputs": [],
   "source": [
    "from sys import argv\n",
    "\n",
    "script, first, second, third = argv\n",
    "\n",
    "print \"The script is called:\", script\n",
    "print \"Your first variable is:\", first\n",
    "print \"Your second variable is:\", second \n",
    "print \"Your third variable is:\", third"
   ]
  },
  {
   "cell_type": "markdown",
   "metadata": {},
   "source": [
    "#### The user must see something like this:"
   ]
  },
  {
   "cell_type": "code",
   "execution_count": null,
   "metadata": {},
   "outputs": [],
   "source": [
    "python3.6 ex13.py stuff things that\n",
    "The script is called: ex13.py\n",
    "Your first variable is: stuff\n",
    "Your second variable is: things\n",
    "Your third variable is: that"
   ]
  },
  {
   "cell_type": "markdown",
   "metadata": {},
   "source": [
    "#### Explanation of the program"
   ]
  },
  {
   "cell_type": "markdown",
   "metadata": {},
   "source": [
    "In the first line of the program has the command import, this is useful to features of the user script.\n",
    "\n",
    "The _argv_ is the variable that maintains the arguments when you run the program. _argv_ allows us to add arguments to our initial command and by assigning _argv_ variables we can make those variables contain the arguments provided.\n",
    "\n",
    "In the last lines is uses the _unpacks_ this serves to assign the arguments in four variables.\n"
   ]
  },
  {
   "cell_type": "markdown",
   "metadata": {},
   "source": [
    "## EXERCISE 14 "
   ]
  },
  {
   "cell_type": "markdown",
   "metadata": {},
   "source": [
    "## Prompting and Passing"
   ]
  },
  {
   "cell_type": "markdown",
   "metadata": {},
   "source": [
    "In this exercise, the author uses _arg_ and _input_ together to ask the user one specific thing.\n"
   ]
  },
  {
   "cell_type": "markdown",
   "metadata": {},
   "source": [
    "#### This is an example of the exercise 14 "
   ]
  },
  {
   "cell_type": "code",
   "execution_count": null,
   "metadata": {},
   "outputs": [],
   "source": [
    "from sys import argv\n",
    "\n",
    "script, user_name = argv\n",
    "prompt = '> '\n",
    "\n",
    "print(f\"Hi {user_name}, I'm the {script} script.\")\n",
    "print(\"I'd like to ask you a few questions.\")\n",
    "print(f\"Do you like me {user_name}?\")\n",
    "likes = input(prompt)\n",
    "\n",
    "print(f\"Where do you live {user_name}?\")\n",
    "lives = input(prompt)\n",
    "\n",
    "print(\"What kind of computer do you have?\")\n",
    "computer = input(prompt)\n",
    "\n",
    "print(f\"\"\"\n",
    " Alright, so you said {likes} about liking me.\n",
    " You live in {lives}. Not sure where that is.\n",
    " And you have a {computer} computer. Nice.\n",
    " \"\"\")"
   ]
  },
  {
   "cell_type": "markdown",
   "metadata": {},
   "source": [
    "#### The user must see something like this:"
   ]
  },
  {
   "cell_type": "code",
   "execution_count": null,
   "metadata": {},
   "outputs": [],
   "source": [
    "python3.6 ex14.py zed\n",
    "Hi zed, I'm the ex14.py script.\n",
    "I'd like to ask you a few questions.\n",
    "Do you like me zed?\n",
    "> Yes\n",
    "Where do you live zed?\n",
    "> San Francisco\n",
    "What kind of computer do you have?\n",
    "> Tandy 1000\n",
    "Alright, so you said Yes about liking me.\n",
    "You live in San Francisco. Not sure where that is.\n",
    "And you have a Tandy 1000 computer. Nice."
   ]
  },
  {
   "cell_type": "markdown",
   "metadata": {},
   "source": [
    "#### Explanation of the program"
   ]
  },
  {
   "cell_type": "markdown",
   "metadata": {},
   "source": [
    "Python uses either the _input()_. This function have an optional parameter, commonly known as _prompt_, which is a string that will be printed on the screen whenever the function is called.\n",
    "\n",
    "\n"
   ]
  },
  {
   "cell_type": "markdown",
   "metadata": {},
   "source": [
    "## EXERCISE 15"
   ]
  },
  {
   "cell_type": "markdown",
   "metadata": {},
   "source": [
    "## Reading Files"
   ]
  },
  {
   "cell_type": "markdown",
   "metadata": {},
   "source": [
    "In this exercise, you will learn about reading from a file.\n",
    "This program opens the file that the user wants and then prints out in the scrip.\n",
    "\n",
    "The purpose of the program is to open the file in the script of the user and then print it out."
   ]
  },
  {
   "cell_type": "markdown",
   "metadata": {},
   "source": [
    "#### This is an example of the exercise 15 "
   ]
  },
  {
   "cell_type": "code",
   "execution_count": null,
   "metadata": {},
   "outputs": [],
   "source": [
    "from sys import argv\n",
    "\n",
    "script, filename = argv\n",
    "\n",
    "txt = open(filename)\n",
    "\n",
    "print(f\"Here's your file {filename}:\")\n",
    "print(txt.read())\n",
    "\n",
    "print(\"Type the filename again:\")\n",
    "file_again = input(\"> \")\n",
    "\n",
    "txt_again = open(file_again)\n",
    "\n",
    "print(txt_again.read())"
   ]
  },
  {
   "cell_type": "markdown",
   "metadata": {},
   "source": [
    "#### The user must see something like this:"
   ]
  },
  {
   "cell_type": "code",
   "execution_count": null,
   "metadata": {},
   "outputs": [],
   "source": [
    "python3.6 ex15.py ex15_sample.txt\n",
    "Here's your file ex15_sample.txt:\n",
    "This is stuff I typed into a file.\n",
    "It is really cool stuff.\n",
    "Lots and lots of fun to have in here."
   ]
  },
  {
   "cell_type": "markdown",
   "metadata": {},
   "source": [
    "#### Explanation of the program"
   ]
  },
  {
   "cell_type": "markdown",
   "metadata": {},
   "source": [
    "in the first three lines, the program uses _argv_ to get the file name\n",
    "\n",
    "In the next line, it is necessary to use the command _open_\n",
    "\n",
    "And finally _read()_ , read the entire file, but you can read line by line, using _readlines()_"
   ]
  },
  {
   "cell_type": "markdown",
   "metadata": {},
   "source": [
    "## EXERCISE 16"
   ]
  },
  {
   "cell_type": "markdown",
   "metadata": {},
   "source": [
    "## Reading and Writing Files"
   ]
  },
  {
   "cell_type": "markdown",
   "metadata": {},
   "source": [
    "In order to do the next program will be useful have seen the Study Drills from each exercise done before.\n",
    "Then, we are going to need some commands like: close – Closes the file. Like File->Save.. in your editor,another is read – That Reads the contents of the file and you can assign the result to a variable.\n",
    "\n",
    "There is a way to try to remember each command which is thinking in CD's because in those times it worked in a way that first\n",
    "data was stored on each of this kind of media, so many of the file operations still resemble a storage system that is linear.\n"
   ]
  },
  {
   "cell_type": "markdown",
   "metadata": {},
   "source": [
    "#### This an example of the exercise 16"
   ]
  },
  {
   "cell_type": "code",
   "execution_count": null,
   "metadata": {},
   "outputs": [],
   "source": [
    "from sys import argv\n",
    "\n",
    "script, filename = argv\n",
    "\n",
    "print(f\"We're going to erase {filename}.\")\n",
    "print(\"If you don't want that, hit CTRL-C (^C).\")\n",
    "print(\"If you do want that, hit RETURN.\")\n",
    "\n",
    "input(\"?\")\n",
    "print(\"Opening the file...\")\n",
    "target = open(filename, 'w')\n",
    "print(\"Truncating the file. Goodbye!\")\n",
    "target.truncate()\n",
    "\n",
    "print(\"Now I'm going to ask you for three lines.\")\n",
    "\n",
    "line1 = input(\"line 1: \")\n",
    "line2 = input(\"line 2: \")\n",
    "line3 = input(\"line 3: \")\n",
    "\n",
    "print(\"I'm going to write these to the file.\")\n",
    "\n",
    "target.write(line1)\n",
    "target.write(\"\\n\")\n",
    "target.write(line2)\n",
    "target.write(\"\\n\")\n",
    "target.write(line3)\n",
    "target.write(\"\\n\")\n",
    "\n",
    "print(\"And finally, we close it.\")\n",
    "target.close()"
   ]
  },
  {
   "cell_type": "markdown",
   "metadata": {},
   "source": [
    "#### The user must see something like this:"
   ]
  },
  {
   "cell_type": "code",
   "execution_count": null,
   "metadata": {},
   "outputs": [],
   "source": [
    "python3.6 ex16.py test.txt\n",
    "We're going to erase test.txt.\n",
    "If you don't want that, hit CTRL-C (^C).\n",
    "If you do want that, hit RETURN.\n",
    "?\n",
    "Opening the file...\n",
    "Truncating the file. Goodbye!\n",
    "Now I'm going to ask you for three lines.\n",
    "line 1: Mary had a little lamb\n",
    "line 2: Its fleece was white as snow\n",
    "line 3: It was also tasty\n",
    "I'm going to write these to the file."
   ]
  },
  {
   "cell_type": "markdown",
   "metadata": {},
   "source": [
    "## EXERCISE 17"
   ]
  },
  {
   "cell_type": "markdown",
   "metadata": {},
   "source": [
    "## More Files"
   ]
  },
  {
   "cell_type": "markdown",
   "metadata": {},
   "source": [
    "Python has a way of putting definitions in a file and using them in a script or in an interactive instance of the interpreter. Such a file is called a module; The definitions of a module can be imported to other modules or to the _main module_.\n",
    "\n",
    "Therefore, with the before comands we could do like a phyton script to copy one file to another."
   ]
  },
  {
   "cell_type": "markdown",
   "metadata": {},
   "source": [
    "#### This an example of the exercise 17"
   ]
  },
  {
   "cell_type": "code",
   "execution_count": null,
   "metadata": {},
   "outputs": [],
   "source": [
    "from sys import argv\n",
    "from os.path import exists\n",
    "\n",
    "script, from_file, to_file = argv\n",
    "\n",
    "print(f\"Copying from {from_file} to {to_file}\")\n",
    "\n",
    "# we could do these two on one line, how?\n",
    "in_file = open(from_file)\n",
    "indata = in_file.read()\n",
    "\n",
    "print(f\"The input file is {len(indata)} bytes long\")\n",
    "\n",
    "print(f\"Does the output file exist? {exists(to_file)}\")\n",
    "print(\"Ready, hit RETURN to continue, CTRL-C to abort.\")\n",
    "input()\n",
    "\n",
    "out_file = open(to_file, 'w')\n",
    "out_file.write(indata)\n",
    "print(\"Alright, all done.\")\n",
    "\n",
    "out_file.close()\n",
    "in_file.close()"
   ]
  },
  {
   "cell_type": "markdown",
   "metadata": {},
   "source": [
    "Now, in this program we have inserted another kind of comand which its name is exists how you already saw. This comand serve so that returns True if a file exists, based on its name in a string as an argument."
   ]
  },
  {
   "cell_type": "markdown",
   "metadata": {},
   "source": [
    "#### The user must see something like this:"
   ]
  },
  {
   "cell_type": "code",
   "execution_count": null,
   "metadata": {},
   "outputs": [],
   "source": [
    "# first make a sample file\n",
    " echo \"This is a test file.\" > test.txt\n",
    " # then look at it\n",
    " cat test.txt\n",
    "This is a test file.\n",
    " # now run our script on it\n",
    "    python3.6 ex17.py test.txt new_file.txt\n",
    "Copying from test.txt to new_file.txt\n",
    "The input file is 21 bytes long\n",
    "Does the output file exist? False\n",
    "Ready, hit RETURN to continue, CTRL-C to abort."
   ]
  },
  {
   "cell_type": "markdown",
   "metadata": {},
   "source": [
    "## EXERCISE 18"
   ]
  },
  {
   "cell_type": "markdown",
   "metadata": {},
   "source": [
    "## Names, Variables, Code, Functions "
   ]
  },
  {
   "cell_type": "markdown",
   "metadata": {},
   "source": [
    "Here we will have a new function that can do the next functions.\n",
    "\n",
    "Functions do three things:\n",
    "1. They name pieces of code the way variables name strings and numbers.\n",
    "2. They take arguments the way your scripts take argv.\n",
    "3. Using 1 and 2, they let you make your own ”mini-scripts” or ”tiny commands.”\n",
    "\n"
   ]
  },
  {
   "cell_type": "markdown",
   "metadata": {},
   "source": [
    "#### This an example of the exercise 18"
   ]
  },
  {
   "cell_type": "code",
   "execution_count": null,
   "metadata": {},
   "outputs": [],
   "source": [
    "# this one is like your scripts with argv\n",
    "2 def print_two(*args):\n",
    "3 arg1, arg2 = args\n",
    "4 print(f\"arg1: {arg1}, arg2: {arg2}\")\n",
    "5\n",
    "6 # ok, that *args is actually pointless, we can just do this\n",
    "7 def print_two_again(arg1, arg2):\n",
    "8 print(f\"arg1: {arg1}, arg2: {arg2}\")\n",
    "9\n",
    "10 # this just takes one argument\n",
    "11 def print_one(arg1):\n",
    "12 print(f\"arg1: {arg1}\")\n",
    "13\n",
    "14 # this one takes no arguments\n",
    "15 def print_none():\n",
    "16 print(\"I got nothin'.\")\n",
    "17\n",
    "18\n",
    "19 print_two(\"Zed\",\"Shaw\")\n",
    "20 print_two_again(\"Zed\",\"Shaw\")\n",
    "21 print_one(\"First!\")\n",
    "22 print_none()"
   ]
  },
  {
   "cell_type": "markdown",
   "metadata": {},
   "source": [
    "#### The user must see something like this:"
   ]
  },
  {
   "cell_type": "code",
   "execution_count": null,
   "metadata": {},
   "outputs": [],
   "source": [
    "python3.6 ex18.py\n",
    "arg1: Zed, arg2: Shaw\n",
    "arg1: Zed, arg2: Shaw\n",
    "arg1: First!"
   ]
  },
  {
   "cell_type": "markdown",
   "metadata": {},
   "source": [
    "## EXERCISE 19"
   ]
  },
  {
   "cell_type": "markdown",
   "metadata": {},
   "source": [
    "## Functions and Variables"
   ]
  },
  {
   "cell_type": "markdown",
   "metadata": {},
   "source": [
    "The _Functions_ are a kind of Variable in a code, the differences between them are that in a Function you have to define and give it a certain value such as a variable, a number, a mathematical operation and also you can print there. The Function is a kind loop but changing the values as you want. Further, as you are writting the code, you have to write the function giving it a certain value in order to increase or decrease that. But, another thing to know is that you can't print the function what you are using and still will show you.\n",
    "\n",
    "Therefore, the _Variable_ also can to receive a value as the programmer wishes, such as a number, a mathematical operation and you can print there. The things that are different in Variable are that is not necessesary be writting the variable everytime giving it a value and you can print it in order to show the value what you gave it."
   ]
  },
  {
   "cell_type": "markdown",
   "metadata": {},
   "source": [
    "#### This an example of the exercise 19"
   ]
  },
  {
   "cell_type": "code",
   "execution_count": null,
   "metadata": {},
   "outputs": [],
   "source": [
    "def cheese_and_crackers(cheese_count, boxes_of_crackers):\n",
    "print(f\"You have {cheese_count} cheeses!\")\n",
    "print(f\"You have {boxes_of_crackers} boxes of crackers!\")\n",
    "print(\"Man that's enough for a party!\")\n",
    "print(\"Get a blanket.\\n\")\n",
    "\n",
    "\n",
    "print(\"We can just give the function numbers directly:\")\n",
    "cheese_and_crackers(20, 30)\n",
    "\n",
    "\n",
    "print(\"OR, we can use variables from our script:\")\n",
    "amount_of_cheese = 10\n",
    "amount_of_crackers = 50\n",
    "\n",
    "cheese_and_crackers(amount_of_cheese, amount_of_crackers)\n",
    "\n",
    "\n",
    "print(\"We can even do math inside too:\")\n",
    "cheese_and_crackers(10 + 20, 5 + 6)\n",
    "\n",
    "\n",
    "print(\"And we can combine the two, variables and math:\")\n",
    "cheese_and_crackers(amount_of_cheese + 100, amount_of_crackers + 1000)"
   ]
  },
  {
   "cell_type": "markdown",
   "metadata": {},
   "source": [
    "#### The user must see something like this:"
   ]
  },
  {
   "cell_type": "code",
   "execution_count": null,
   "metadata": {},
   "outputs": [],
   "source": [
    " python3.6 ex19.py\n",
    "We can just give the function numbers directly:\n",
    "You have 20 cheeses!\n",
    "You have 30 boxes of crackers!\n",
    "Man that's enough for a party!\n",
    "\n",
    "Get a blanket.\n",
    "\n",
    "OR, we can use variables from our script:\n",
    "You have 10 cheeses!\n",
    "You have 50 boxes of crackers!\n",
    "Man that's enough for a party!\n",
    "\n",
    "Get a blanket.\n",
    "\n",
    "We can even do math inside too:\n",
    "You have 30 cheeses!\n",
    "You have 11 boxes of crackers!\n",
    "Man that's enough for a party!\n",
    "\n",
    "Get a blanket.\n",
    "\n",
    "And we can combine the two, variables and math:\n",
    "You have 110 cheeses!\n",
    "You have 1050 boxes of crackers!\n",
    "Man that's enough for a party!\n",
    "\n",
    "Get a blanket."
   ]
  },
  {
   "cell_type": "markdown",
   "metadata": {},
   "source": [
    "#### Explanation of the program:"
   ]
  },
  {
   "cell_type": "markdown",
   "metadata": {},
   "source": [
    "_def_ : It is to give to a variable a function such as a mathematical operation."
   ]
  },
  {
   "cell_type": "markdown",
   "metadata": {},
   "source": [
    "## EXERCISE 20"
   ]
  },
  {
   "cell_type": "markdown",
   "metadata": {},
   "source": [
    "## Functions and Files"
   ]
  },
  {
   "cell_type": "markdown",
   "metadata": {},
   "source": [
    "As we saw, the Functions are a kind of loops and you can use that in your favor if you want you make a lists, but also you have to use the command Files in order to make it.\n",
    "\n",
    "There are two options to do it, the first is with numbers in consecutive order (_1, 2, 3_..., etc.), in Roman numbers (_I, II, III_..., etc.) and in alphabetic form (_a, b, c_..., etc.) or (_A, B, C_..., etc.), all of these before the thing that your adding in the list. \n",
    "And the second option is to make the list without any number or word before of something in the list."
   ]
  },
  {
   "cell_type": "markdown",
   "metadata": {},
   "source": [
    "#### This is an example of exercise 20"
   ]
  },
  {
   "cell_type": "code",
   "execution_count": null,
   "metadata": {},
   "outputs": [],
   "source": [
    "from sys import argv\n",
    "\n",
    "script, input_file = argv\n",
    "\n",
    "def print_all(f):\n",
    "print(f.read())\n",
    "\n",
    "def rewind(f):\n",
    "f.seek(0)\n",
    "\n",
    "def print_a_line(line_count, f):\n",
    "print(line_count, f.readline())\n",
    "\n",
    "current_file = open(input_file)\n",
    "\n",
    "print(\"First let's print the whole file:\\n\")\n",
    "\n",
    "print_all(current_file)\n",
    "\n",
    "print(\"Now let's rewind, kind of like a tape.\")\n",
    "\n",
    "rewind(current_file)\n",
    "\n",
    "print(\"Let's print three lines:\")\n",
    "\n",
    "current_line = 1\n",
    "print_a_line(current_line, current_file)\n",
    "\n",
    "current_line = current_line + 1\n",
    "print_a_line(current_line, current_file)\n",
    "\n",
    "current_line = current_line + 1\n",
    "print_a_line(current_line, current_file)"
   ]
  },
  {
   "cell_type": "markdown",
   "metadata": {},
   "source": [
    "#### The user must see something like this:"
   ]
  },
  {
   "cell_type": "code",
   "execution_count": null,
   "metadata": {},
   "outputs": [],
   "source": [
    "python3.6 ex20.py test.txt\n",
    "First let's print the whole file:\n",
    "This is line 1\n",
    "This is line 2\n",
    "This is line 3\n",
    "\n",
    "Now let's rewind, kind of like a tape.\n",
    "Let's print three lines:\n",
    "1 This is line 1\n",
    "2 This is line 2\n",
    "3 This is line 3"
   ]
  },
  {
   "cell_type": "markdown",
   "metadata": {},
   "source": [
    "#### Explanation of the program:"
   ]
  },
  {
   "cell_type": "markdown",
   "metadata": {},
   "source": [
    "_from_ : It is to select one library of Python.\n",
    "\n",
    "_import_ : It is used when you already selected the library, you can select a command of that.\n",
    "\n",
    "_def_ : It is to give to a variable a function such as a mathematical operation."
   ]
  },
  {
   "cell_type": "markdown",
   "metadata": {},
   "source": [
    "## EXERCISE 21"
   ]
  },
  {
   "cell_type": "markdown",
   "metadata": {},
   "source": [
    "## Functions Can Return Something"
   ]
  },
  {
   "cell_type": "markdown",
   "metadata": {},
   "source": [
    "When you define a Function with certain values (variables, numbers, print), it is not just like a variable because also you can give a mathematical operation to the values which are between parethesis. Then, when you want to write the function as a variable, you have to write just the function and the values that you want between parethesis."
   ]
  },
  {
   "cell_type": "markdown",
   "metadata": {},
   "source": [
    "#### This is an example of exercise 21"
   ]
  },
  {
   "cell_type": "code",
   "execution_count": null,
   "metadata": {},
   "outputs": [],
   "source": [
    "def add(a, b):\n",
    "print(f\"ADDING {a} + {b}\")\n",
    "return a + b\n",
    "\n",
    "def subtract(a, b):\n",
    "print(f\"SUBTRACTING {a} - {b}\")\n",
    "return a - b\n",
    "\n",
    "def multiply(a, b):\n",
    "print(f\"MULTIPLYING {a} * {b}\")\n",
    "return a * b\n",
    "\n",
    "def divide(a, b):\n",
    "print(f\"DIVIDING {a} / {b}\")\n",
    "return a / b\n",
    "\n",
    "\n",
    "print(\"Let's do some math with just functions!\")\n",
    "\n",
    "age = add(30, 5)\n",
    "height = subtract(78, 4)\n",
    "weight = multiply(90, 2)\n",
    "iq = divide(100, 2)\n",
    "\n",
    "print(f\"Age: {age}, Height: {height}, Weight: {weight}, IQ: {iq}\")\n",
    "\n",
    "\n",
    "# A puzzle for the extra credit, type it in anyway.\n",
    "print(\"Here is a puzzle.\")\n",
    "\n",
    "what = add(age, subtract(height, multiply(weight, divide(iq, 2))))\n",
    "\n",
    "print(\"That becomes: \", what, \"Can you do it by hand?\")"
   ]
  },
  {
   "cell_type": "markdown",
   "metadata": {},
   "source": [
    "#### The user must see something like this:"
   ]
  },
  {
   "cell_type": "code",
   "execution_count": null,
   "metadata": {},
   "outputs": [],
   "source": [
    "python3.6 ex21.py\n",
    "Let's do some math with just functions!\n",
    "ADDING 30 + 5\n",
    "SUBTRACTING 78 - 4\n",
    "MULTIPLYING 90 * 2\n",
    "DIVIDING 100 / 2\n",
    "Age: 35, Height: 74, Weight: 180, IQ: 50.0\n",
    "Here is a puzzle.\n",
    "DIVIDING 50.0 / 2\n",
    "MULTIPLYING 180 * 25.0\n",
    "SUBTRACTING 74 - 4500.0\n",
    "ADDING 35 + -4426.0\n",
    "That becomes: -4391.0 Can you do it by hand?"
   ]
  },
  {
   "cell_type": "markdown",
   "metadata": {},
   "source": [
    "#### Explanation of the program: "
   ]
  },
  {
   "cell_type": "markdown",
   "metadata": {},
   "source": [
    "_def_ : It is to give to a variable a function such as a mathematical operation.\n",
    "\n",
    "_return_ : It goes back to check the two values of the variable what is defined and then make its function"
   ]
  },
  {
   "cell_type": "markdown",
   "metadata": {},
   "source": [
    "# MEC 3B"
   ]
  },
  {
   "cell_type": "markdown",
   "metadata": {},
   "source": [
    "## Name Student:"
   ]
  },
  {
   "cell_type": "markdown",
   "metadata": {},
   "source": [
    "#### • Galindo Torres Francisco Alonso\n",
    "#### • Martínez Martínez Lisset Vianey \n",
    "#### • Medina Galicia Diego Armando"
   ]
  },
  {
   "cell_type": "code",
   "execution_count": null,
   "metadata": {},
   "outputs": [],
   "source": []
  }
 ],
 "metadata": {
  "kernelspec": {
   "display_name": "Python 3",
   "language": "python",
   "name": "python3"
  },
  "language_info": {
   "codemirror_mode": {
    "name": "ipython",
    "version": 3
   },
   "file_extension": ".py",
   "mimetype": "text/x-python",
   "name": "python",
   "nbconvert_exporter": "python",
   "pygments_lexer": "ipython3",
   "version": "3.7.3"
  }
 },
 "nbformat": 4,
 "nbformat_minor": 2
}
