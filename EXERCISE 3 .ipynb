{
 "cells": [
  {
   "cell_type": "markdown",
   "metadata": {
    "scrolled": true
   },
   "source": [
    "# EXERCISE 4"
   ]
  },
  {
   "cell_type": "markdown",
   "metadata": {},
   "source": [
    "Develop a program that calculates Sample mean,mode and Standard deviation based in a set of data introduced by the user.\n",
    "The program have to ask what operation the user wants to calculate."
   ]
  },
  {
   "cell_type": "code",
   "execution_count": 2,
   "metadata": {},
   "outputs": [
    {
     "name": "stdout",
     "output_type": "stream",
     "text": [
      "How many numbers do you want to start? 2\n",
      "Introduce the values: 3\n",
      "Introduce the values: 4\n",
      " \n",
      "Write a 0 to stop the program\n",
      "Write a 1 if you want to add more values\n",
      "0\n",
      "Choose one: \n",
      "1) Sample mean\n",
      "2) Mode\n",
      "3) Standard deviation\n",
      "What process do you want to do? 2\n",
      "[3, 4]\n"
     ]
    }
   ],
   "source": [
    "# At the beginning we need to introduce the number of values that we are going to use\n",
    "Values = int(input(\"How many numbers do you want to start? \"))\n",
    "ListNum=[] # Here will be all values that will be to introduce after.\n",
    "#Declaration of variables, they equal zero to clear them of possible galamaties that the system can assign when declaring.\n",
    "Suma= 0    \n",
    "Smean = 0\n",
    "Mode = 0\n",
    "sd=0\n",
    "a = 0\n",
    "b = 0\n",
    "values2=0\n",
    "newvalues=Values\n",
    "r=0\n",
    "# Using for to create a loop of numbers taken from 'Numero' in a range of 0 to the number the user put on 'Values'\n",
    "for i in range (0,Values): \n",
    "    Numero = int(input(\"Introduce the values: \"))# Then, each number put on 'Numero' will be added in variable 'ListNum'\n",
    "    ListNum.append(Numero)\n",
    "# Here we have a infinite cycle\n",
    "while (1):\n",
    "    print(\" \")\n",
    "    print (\"Write a 0 to stop the program\")\n",
    "    print(\"Write a 1 if you want to add more values\" )\n",
    "    wtf=int(input())\n",
    "    if wtf==1: #We have a condition, When'wtf'is equal to 1 then the condition will take place in order to follow with the next variable\n",
    "        values2=int(input(\"How many values? \"))#\n",
    "        for r in range(0, values2):\n",
    "            Numero = int(input(\"Introduce the values: \"))\n",
    "            ListNum.append(Numero)\n",
    "        newvalues+=values2 # The first values that you choosed plus the second values that you want.\n",
    "    if wtf == 0:\n",
    "        # However, if we choose '0' the condition will take place\n",
    "        print (\"Choose one: \")\n",
    "        print (\"1) Sample mean\")\n",
    "        print (\"2) Mode\")\n",
    "        print(\"3) Standard deviation\")\n",
    "        X = int(input(\"What process do you want to do? \"))\n",
    "        \n",
    "        # If you push buttom 1 you are going to obtain the sample mean. \n",
    "        if X == 1:\n",
    "            for e in ListNum:\n",
    "                Suma+=e   \n",
    "            Suma=Suma/newvalues \n",
    "            print(f\"The sample mean is {Suma}\")\n",
    "            break\n",
    "        \n",
    "        # If you push buttom 2 you are going to obtain the modes. \n",
    "        if X == 2:\n",
    "            for o in ListNum:\n",
    "                a=ListNum.count(o)\n",
    "                if a>b:\n",
    "                    b=a\n",
    "            modes=[]\n",
    "            for o in ListNum:\n",
    "                a=ListNum.count(o)\n",
    "                if a==b and o not in modes:\n",
    "                    modes.append(o)\n",
    "            print(modes)\n",
    "            break\n",
    "        \n",
    "        # If you push buttom 3 you are going to obtain the standard deviation.     \n",
    "        if X == 3:\n",
    "            for e in range(0,newvalues):\n",
    "                Suma+=ListNum[e]\n",
    "            Suma=Suma/newvalues \n",
    "            for r in range(0, newvalues):\n",
    "                sd+=(ListNum[r]-Suma)**2\n",
    "            sd=(sd/((newvalues)-1))**(1/2)    \n",
    "            print(sd)\n",
    "            break"
   ]
  },
  {
   "cell_type": "markdown",
   "metadata": {},
   "source": [
    "# MEC 3B"
   ]
  },
  {
   "cell_type": "markdown",
   "metadata": {},
   "source": [
    "## Name Student:"
   ]
  },
  {
   "cell_type": "markdown",
   "metadata": {},
   "source": [
    "#### • Galindo Torres Francisco Alonso\n",
    "#### • Martínez Martínez Lisset Vianey \n",
    "#### • Medina Galicia Diego Armando"
   ]
  },
  {
   "cell_type": "code",
   "execution_count": null,
   "metadata": {},
   "outputs": [],
   "source": []
  },
  {
   "cell_type": "code",
   "execution_count": null,
   "metadata": {},
   "outputs": [],
   "source": []
  }
 ],
 "metadata": {
  "kernelspec": {
   "display_name": "Python 3",
   "language": "python",
   "name": "python3"
  },
  "language_info": {
   "codemirror_mode": {
    "name": "ipython",
    "version": 3
   },
   "file_extension": ".py",
   "mimetype": "text/x-python",
   "name": "python",
   "nbconvert_exporter": "python",
   "pygments_lexer": "ipython3",
   "version": "3.7.3"
  }
 },
 "nbformat": 4,
 "nbformat_minor": 2
}
