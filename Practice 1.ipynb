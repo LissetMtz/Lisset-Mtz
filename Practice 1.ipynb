{
 "cells": [
  {
   "cell_type": "code",
   "execution_count": null,
   "metadata": {},
   "outputs": [],
   "source": [
    "Age1 = int(input(\"What is your age? \")) \n",
    "Age2 = int (input(\"What is your age? \"))\n",
    "Age3 = int(input(\"What is your age? \"))\n",
    "sum = Age1 + Age2 + Age3\n",
    "print(\"The result of the sum is:\")\n",
    "print(sum)\n",
    "mean = int(sum / 3)\n",
    "print (\"The result of the sample mean is:\")\n",
    "print(mean)"
   ]
  },
  {
   "cell_type": "code",
   "execution_count": null,
   "metadata": {},
   "outputs": [],
   "source": []
  }
 ],
 "metadata": {
  "kernelspec": {
   "display_name": "Python 3",
   "language": "python",
   "name": "python3"
  },
  "language_info": {
   "codemirror_mode": {
    "name": "ipython",
    "version": 3
   },
   "file_extension": ".py",
   "mimetype": "text/x-python",
   "name": "python",
   "nbconvert_exporter": "python",
   "pygments_lexer": "ipython3",
   "version": "3.7.3"
  }
 },
 "nbformat": 4,
 "nbformat_minor": 2
}
