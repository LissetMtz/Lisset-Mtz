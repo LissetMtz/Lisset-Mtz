{
 "cells": [
  {
   "cell_type": "markdown",
   "metadata": {},
   "source": [
    "# LEARN PYTHON 3 THE HARD WAY"
   ]
  },
  {
   "cell_type": "markdown",
   "metadata": {},
   "source": [
    "## *REVIEW*"
   ]
  },
  {
   "attachments": {
    "Python.png": {
     "image/png": "[encoded data removed]"
    }
   },
   "cell_type": "markdown",
   "metadata": {},
   "source": [
    "![Python.png](attachment:Python.png)"
   ]
  },
  {
   "cell_type": "markdown",
   "metadata": {},
   "source": [
    " ### INTRODUCTION"
   ]
  },
  {
   "cell_type": "markdown",
   "metadata": {},
   "source": [
    "The book explains how to start programming quickly with many examples, starting in how to install, to open\n",
    "and run the program.\n",
    "It has the advantage to explain in two differents operative systems what you have (macOS and Windows), furthermore you can train with Study Drills and finally you can check the common that the students ask about the program in a special section called Common Student Question."
   ]
  },
  {
   "cell_type": "markdown",
   "metadata": {},
   "source": [
    "### A Good First Program"
   ]
  },
  {
   "cell_type": "markdown",
   "metadata": {},
   "source": [
    "The first exercise that the book has is about how to create a first good program, this is important to be able to start with everything related to python programming, so the first program that the writer shows is the famous \"Hello World\"."
   ]
  },
  {
   "cell_type": "code",
   "execution_count": 1,
   "metadata": {},
   "outputs": [
    {
     "name": "stdout",
     "output_type": "stream",
     "text": [
      "¡Hello World!\n"
     ]
    }
   ],
   "source": [
    "print (\"¡Hello World!\")"
   ]
  },
  {
   "cell_type": "markdown",
   "metadata": {},
   "source": [
    "### Comments and Pound Characters"
   ]
  },
  {
   "cell_type": "markdown",
   "metadata": {},
   "source": [
    "Comments are something very important for any programmer, because it is a very easy way to understand and that other people understand what was done in that line of the code, this also helps if you have a line in your code which does not work or you are not sure if it should be there, and you don't want to delete it so you add it as a comment in case in the future it can help you."
   ]
  },
  {
   "cell_type": "code",
   "execution_count": 2,
   "metadata": {},
   "outputs": [
    {
     "name": "stdout",
     "output_type": "stream",
     "text": [
      "2+5<3+5 15 is true or false?\n",
      "True\n"
     ]
    }
   ],
   "source": [
    "print(\"2+5<3+5 15 is true or false?\") #This is a comment\n",
    "print (2+5<3+5)"
   ]
  },
  {
   "cell_type": "markdown",
   "metadata": {},
   "source": [
    "### Numbers and Math"
   ]
  },
  {
   "cell_type": "markdown",
   "metadata": {},
   "source": [
    "In this third exercise, the writer talks about the different symbols that exist in this programming language, which is a very important tool to be able to perform both basic and even more complex operations."
   ]
  },
  {
   "cell_type": "code",
   "execution_count": 3,
   "metadata": {},
   "outputs": [
    {
     "name": "stdout",
     "output_type": "stream",
     "text": [
      "4\n",
      "-1\n",
      "2.0\n",
      "8\n"
     ]
    }
   ],
   "source": [
    "print (2 + 2) # Sum\n",
    "print (2 - 3) #Rest\n",
    "print (8 / 4) #Divison\n",
    "print ( 4 * 2) #Multiplication"
   ]
  },
  {
   "cell_type": "markdown",
   "metadata": {},
   "source": [
    "### Variables and Names"
   ]
  },
  {
   "cell_type": "markdown",
   "metadata": {},
   "source": [
    "When you make a program most of the time you use a Variable, because once you once how to print you will know when you write something between parenthesis it is just a text, but if you don't write it between parenthesis then that will be considered as a Variable, so at the beginning you must to declare it."
   ]
  },
  {
   "cell_type": "code",
   "execution_count": 3,
   "metadata": {},
   "outputs": [
    {
     "name": "stdout",
     "output_type": "stream",
     "text": [
      "The result of the sum is:\n",
      "8\n"
     ]
    }
   ],
   "source": [
    "a = 3\n",
    "b = 5\n",
    "sum = a+b\n",
    "print(\"The result of the sum is:\")\n",
    "print(sum)"
   ]
  },
  {
   "cell_type": "markdown",
   "metadata": {},
   "source": [
    "### More Variables and Printing"
   ]
  },
  {
   "cell_type": "markdown",
   "metadata": {},
   "source": [
    "There is another way to use the Variables, that way is to replace just the word that you want to say, you only have to declare the Variable and then when you print something just write the Variable where it has to be between brackets \"{}\". And also it is a better way to save time."
   ]
  },
  {
   "cell_type": "code",
   "execution_count": 4,
   "metadata": {},
   "outputs": [
    {
     "name": "stdout",
     "output_type": "stream",
     "text": [
      "My name is Diego.\n",
      "My last name is Medina.\n"
     ]
    }
   ],
   "source": [
    "name = 'Diego'\n",
    "lastname = 'Medina'\n",
    "print(f\"My name is {name}.\")\n",
    "print(f\"My last name is {lastname}.\")"
   ]
  },
  {
   "cell_type": "markdown",
   "metadata": {},
   "source": [
    "### Strings and Text"
   ]
  },
  {
   "cell_type": "markdown",
   "metadata": {},
   "source": [
    "As you saw in the last topic, you can save time just making variables for words, but also it can save time with sentences as variables.\n",
    "You can play with the variables as you want."
   ]
  },
  {
   "cell_type": "code",
   "execution_count": 5,
   "metadata": {},
   "outputs": [
    {
     "name": "stdout",
     "output_type": "stream",
     "text": [
      "Today we will make the program Hello World.\n",
      "The program Hello World is the most practical programs that exists.\n"
     ]
    }
   ],
   "source": [
    "sentence1 = 'Hello World'\n",
    "sentence2 = f'The program {sentence1} is the most practical programs that exists.'\n",
    "print(f\"Today we will make the program {sentence1}.\")\n",
    "print(sentence2)"
   ]
  },
  {
   "cell_type": "markdown",
   "metadata": {},
   "source": [
    "### More Printing"
   ]
  },
  {
   "cell_type": "markdown",
   "metadata": {},
   "source": [
    "The objective of this topic is to practice your acquired knowledge in the last ones, but it is something important, . And also, ENJOY IT!"
   ]
  },
  {
   "cell_type": "code",
   "execution_count": 7,
   "metadata": {},
   "outputs": [
    {
     "name": "stdout",
     "output_type": "stream",
     "text": [
      "Hello, my name is Diego Armando Medina Galicia.\n",
      "I am 19 years old.\n"
     ]
    }
   ],
   "source": [
    "name = 'Diego Armando'\n",
    "lastname = ' Medina Galicia'\n",
    "completename = name + lastname\n",
    "a = 10\n",
    "b = 9\n",
    "sum = a+b\n",
    "sentence = f'I am {sum} years old.'\n",
    "print(f\"Hello, my name is {completename}.\")\n",
    "print(sentence)"
   ]
  },
  {
   "cell_type": "markdown",
   "metadata": {},
   "source": [
    "### Printing, printing"
   ]
  },
  {
   "cell_type": "markdown",
   "metadata": {},
   "source": [
    "This kind of Programmation is to turn the *formatter* variable into other strings. But, however, the writer says that this programmation is a little bit hard for our initial knowledge of python. It is only to think and also is to have a challenge for our brain.  "
   ]
  },
  {
   "cell_type": "code",
   "execution_count": 10,
   "metadata": {},
   "outputs": [
    {
     "name": "stdout",
     "output_type": "stream",
     "text": [
      "100 90 80 70\n",
      "one hundred Ninety Eighty Seventy\n",
      "True False False True\n",
      "{} {} {} {} {} {} {} {} {} {} {} {} {} {} {} {}\n",
      "Hi world, I am learning to use python here.\n"
     ]
    }
   ],
   "source": [
    "formatter = \"{} {} {} {}\"\n",
    "print(formatter.format(100, 90, 80, 70))\n",
    "print(formatter.format(\"one hundred\", \"Ninety\", \"Eighty\", \"Seventy\"))\n",
    "print(formatter.format(True, False, False, True))\n",
    "print(formatter.format(formatter, formatter, formatter, formatter))\n",
    "print(formatter.format(\"Hi world,\",\"I am learning\",\"to use\",\"python here.\" ))\n"
   ]
  },
  {
   "cell_type": "markdown",
   "metadata": {},
   "source": [
    "### Printing, Printing, Printing"
   ]
  },
  {
   "cell_type": "markdown",
   "metadata": {},
   "source": [
    "As part of this section 9, I can deduce that there are certain commands with which we could work \n",
    "to carry an order when we running our program, such as the letter \"n\" which, it serves\n",
    "to sort the months vertically and not only see them horizontally."
   ]
  },
  {
   "cell_type": "code",
   "execution_count": 11,
   "metadata": {},
   "outputs": [
    {
     "name": "stdout",
     "output_type": "stream",
     "text": [
      "What is inside candy bag?  :  Ice lolly FrenchFries Bubblegum Chocolate Mazapan Bubulubu \n",
      "Who are the children?:  Paco\n",
      "Fanny\n",
      "Michelle\n",
      "Ana\n",
      "Monserrat\n",
      "Julissa\n",
      "Alan\n",
      "Cesar\n",
      "Cristian\n",
      "Jose Luis\n"
     ]
    }
   ],
   "source": [
    "Candies = \"Ice lolly FrenchFries Bubblegum Chocolate Mazapan Bubulubu \"\n",
    "Children = \"Paco\\nFanny\\nMichelle\\nAna\\nMonserrat\\nJulissa\\nAlan\\nCesar\\nCristian\\nJose Luis\"\n",
    "\n",
    "print(\"What is inside candy bag?  : \", Candies)\n",
    "print(\"Who are the children?: \", Children)\n"
   ]
  },
  {
   "cell_type": "markdown",
   "metadata": {},
   "source": [
    "### What Was That?"
   ]
  },
  {
   "cell_type": "markdown",
   "metadata": {},
   "source": [
    "In the exercise 10, we can note that there are some sequences that we can use to the computer or the python does not have a troubleshooting with itself for put for example: \"I \"Understand\" Alonso\", here python can have or indicate an error and \n",
    "we could resolve these kinds of errors with the next commands."
   ]
  },
  {
   "cell_type": "code",
   "execution_count": 12,
   "metadata": {},
   "outputs": [
    {
     "name": "stdout",
     "output_type": "stream",
     "text": [
      "\tI'm enrolled in.\n",
      "I nedd buy\\somethings.\n",
      "I'm \\ going \\ to\\ be a\\ new student .\n",
      "\n",
      "I'll do a list:\n",
      "\t* Notebooks\n",
      "\t* Pens\n",
      "\t* Backpack\n",
      "\t* Colours\n",
      "\t* Shoes\n",
      "\n",
      "\n"
     ]
    }
   ],
   "source": [
    "Fist_to_do = \"\\tI'm enrolled in.\"\n",
    "Second_to_do = \"I nedd buy\\somethings.\"\n",
    "Third_to_do = \"I'm \\\\ going \\\\ to\\\\ be a\\\\ new student .\"\n",
    "\n",
    "Things_that_need_buy = \"\"\"\n",
    "I'll do a list:\n",
    "\\t* Notebooks\n",
    "\\t* Pens\n",
    "\\t* Backpack\n",
    "\\t* Colours\n",
    "\\t* Shoes\n",
    "\n",
    "\"\"\" \n",
    "\n",
    "print(Fist_to_do )\n",
    "print(Second_to_do )\n",
    "print(Third_to_do)\n",
    "print(Things_that_need_buy)\n"
   ]
  },
  {
   "cell_type": "markdown",
   "metadata": {},
   "source": [
    "## Team\n",
    "-Galindo Torres Franciso Alonso (Alonso_Torres14)\n",
    "--Martínez Martínez Lisset Vianey (Lisset-Mtz)\n",
    "--Medina Galicia Diego Armando (AccionyCorte)\n"
   ]
  },
  {
   "cell_type": "code",
   "execution_count": null,
   "metadata": {},
   "outputs": [],
   "source": []
  }
 ],
 "metadata": {
  "kernelspec": {
   "display_name": "Python 3",
   "language": "python",
   "name": "python3"
  },
  "language_info": {
   "codemirror_mode": {
    "name": "ipython",
    "version": 3
   },
   "file_extension": ".py",
   "mimetype": "text/x-python",
   "name": "python",
   "nbconvert_exporter": "python",
   "pygments_lexer": "ipython3",
   "version": "3.7.3"
  }
 },
 "nbformat": 4,
 "nbformat_minor": 2
}
