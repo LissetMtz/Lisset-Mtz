{
 "cells": [
  {
   "cell_type": "markdown",
   "metadata": {},
   "source": [
    "#  LEARN PYTHON 3 THE HARD WAY"
   ]
  },
  {
   "cell_type": "markdown",
   "metadata": {},
   "source": [
    "## REVIEW UNIT 3 "
   ]
  },
  {
   "cell_type": "markdown",
   "metadata": {},
   "source": [
    "### PART 2"
   ]
  },
  {
   "cell_type": "markdown",
   "metadata": {},
   "source": [
    "## EXERCISE 40"
   ]
  },
  {
   "cell_type": "markdown",
   "metadata": {},
   "source": [
    "## Modules, Classes, and Objects"
   ]
  },
  {
   "cell_type": "markdown",
   "metadata": {},
   "source": [
    "When a _Class_ is defined, a new namespace is created, which is used as a local scope; therefore, all assignments to local variables go to this new namespace. In particular, defined function associate the name of the new functions there.\n",
    "\n",
    "When a defined _Class_ is finished, a class object is normally created. Basically, this object wraps the contents of the namespace created by the class definition."
   ]
  },
  {
   "cell_type": "markdown",
   "metadata": {},
   "source": [
    "#### This is an example of the  exercise 40"
   ]
  },
  {
   "cell_type": "code",
   "execution_count": null,
   "metadata": {},
   "outputs": [],
   "source": [
    "class Song(object):\n",
    "\n",
    "def __init__(self, lyrics):\n",
    "    self.lyrics = lyrics\n",
    "\n",
    "def sing_me_a_song(self):\n",
    "    for line in self.lyrics:\n",
    "        print(line)\n",
    "\n",
    "happy_bday = Song([\"Happy birthday to you\",\n",
    "                   \"I don't want to get sued\",\n",
    "                   \"So I'll stop right there\"])\n",
    "\n",
    "bulls_on_parade = Song([\"They rally around tha family\",\n",
    "                        \"With pockets full of shells\"])\n",
    "\n",
    "happy_bday.sing_me_a_song()\n",
    "\n",
    "bulls_on_parade.sing_me_a_song()"
   ]
  },
  {
   "cell_type": "markdown",
   "metadata": {},
   "source": [
    "#### The user must see something like this:"
   ]
  },
  {
   "cell_type": "code",
   "execution_count": null,
   "metadata": {},
   "outputs": [],
   "source": [
    " python3.6 ex40.py\n",
    "Happy birthday to you\n",
    "I don't want to get sued\n",
    "So I'll stop right there\n",
    "They rally around tha family\n",
    "With pockets full of shells"
   ]
  },
  {
   "cell_type": "markdown",
   "metadata": {},
   "source": [
    "#### Explanation of the program"
   ]
  },
  {
   "cell_type": "code",
   "execution_count": null,
   "metadata": {},
   "outputs": [],
   "source": [
    "_class_ : Tell Python to make a new type of thing.\n",
    "\n",
    "_def_ : It is to give to a variable a function such as a mathematical operation."
   ]
  },
  {
   "cell_type": "markdown",
   "metadata": {},
   "source": [
    "#### There is another example:"
   ]
  },
  {
   "cell_type": "code",
   "execution_count": null,
   "metadata": {},
   "outputs": [],
   "source": [
    "mystuff = {'apple': \"I AM APPLES!\"}\n",
    "print(mystuff['apple'])\n",
    "\n",
    "# this goes in mystuff.py\n",
    "def apple():\n",
    "    print(\"I AM APPLES!\")\n",
    "\n",
    "import mystuff\n",
    "mystuff.apple()\n",
    "\n",
    "def apple():\n",
    "    print(\"I AM APPLES!\")\n",
    "\n",
    "# this is just a variable\n",
    "tangerine = \"Living reflection of a dream\"\n",
    "\n",
    "import mystuff\n",
    "\n",
    "mystuff.apple()\n",
    "print(mystuff.tangerine)\n",
    "\n",
    "mystuff['apple'] # get apple from dict\n",
    "mystuff.apple() # get apple from the module\n",
    "mystuff.tangerine # same thing, it's just a variable\n",
    "\n",
    "class MyStuff(object):\n",
    "    \n",
    "    def __init__(self):\n",
    "        self.tangerine = \"And now a thousand years between\"\n",
    "    \n",
    "    def apple(self):\n",
    "        print(\"I AM CLASSY APPLES!\")\n",
    "        \n",
    "thing = MyStuff()\n",
    "thing.apple()\n",
    "print(thing.tangerine)\n",
    "\n",
    "# dict style\n",
    "mystuff['apples']\n",
    "\n",
    "# module style\n",
    "mystuff.apples()\n",
    "print(mystuff.tangerine)\n",
    "\n",
    "# class style\n",
    "thing = MyStuff()\n",
    "thing.apples()\n",
    "print(thing.tangerine)"
   ]
  },
  {
   "cell_type": "markdown",
   "metadata": {},
   "source": [
    "#### Explanation of the program:"
   ]
  },
  {
   "cell_type": "markdown",
   "metadata": {},
   "source": [
    "_def_ : It is to give to a variable a function such as a mathematical operation.\n",
    "\n",
    "_import_ : It is used when you already selected the library, you can select a command of that.\n",
    "\n",
    "_class_ : Tell Python to make a new type of thing."
   ]
  },
  {
   "cell_type": "markdown",
   "metadata": {},
   "source": [
    "## EXERCISE 41"
   ]
  },
  {
   "cell_type": "markdown",
   "metadata": {},
   "source": [
    "## Learning to Speak Object-Oriented"
   ]
  },
  {
   "cell_type": "markdown",
   "metadata": {},
   "source": [
    "One of the characteristics of an object-oriented programming language is that it allows you to solve problems by creating new classes that model the data needed to solve the problem.\n",
    "\n",
    "With the creation of a class that implements an abstract type of data, you can take advantage of the abstraction process and at the same time provide the necessary details to actually use abstraction in a program. Whenever you want to implement an abstract type of data, you can do it with a new class."
   ]
  },
  {
   "cell_type": "markdown",
   "metadata": {},
   "source": [
    "### This is an example of the exercise 41"
   ]
  },
  {
   "cell_type": "code",
   "execution_count": null,
   "metadata": {},
   "outputs": [],
   "source": [
    "import random\n",
    "from urllib.request import urlopen\n",
    "import sys\n",
    "\n",
    "WORD_URL = \"http://learncodethehardway.org/words.txt\"\n",
    "WORDS = []\n",
    "\n",
    "PHRASES = {\n",
    "    \"class %%%(%%%):\":\n",
    "    \"Make a class named %%% that is-a %%%.\",\n",
    "    \"class %%%(object):\\n\\tdef __init__(self, ***)\" :\n",
    "    \"class %%% has-a __init__ that takes self and *** params.\",\n",
    "    \"class %%%(object):\\n\\tdef ***(self, @@@)\":\n",
    "    \"class %%% has-a function *** that takes self and @@@ params.\",\n",
    "    \"*** = %%%()\":\n",
    "    \"Set *** to an instance of class %%%.\",\n",
    "    \"***.***(@@@)\":\n",
    "    \"From *** get the *** function, call it with params self, @@@.\",\n",
    "    \"***.*** = '***'\":\n",
    "    \"From *** get the *** attribute and set it to '***'.\"\n",
    "}\n",
    "\n",
    "# do they want to drill phrases first\n",
    "if len(sys.argv) == 2 and sys.argv[1] == \"english\":\n",
    "    PHRASE_FIRST = True\n",
    "else:\n",
    "    PHRASE_FIRST = False\n",
    "\n",
    "# load up the words from the website\n",
    "for word in urlopen(WORD_URL).readlines():\n",
    "    WORDS.append(str(word.strip(), encoding=\"utf-8\"))\n",
    "\n",
    "\n",
    "def convert(snippet, phrase):\n",
    "    class_names = [w.capitalize() for w in\n",
    "                   LEARNING TO SPEAK OBJECT-ORIENTED 189\n",
    "                   random.sample(WORDS, snippet.count(\"%%%\"))]\n",
    "    other_names = random.sample(WORDS, snippet.count(\"***\"))\n",
    "    results = []\n",
    "    param_names = []\n",
    "    \n",
    "    for i in range(0, snippet.count(\"@@@\")):\n",
    "        param_count = random.randint(1,3)\n",
    "        param_names.append(', '.join(\n",
    "            random.sample(WORDS, param_count)))\n",
    "        \n",
    "    for sentence in snippet, phrase:\n",
    "        result = sentence[:]\n",
    "        \n",
    "        # fake class names\n",
    "        for word in class_names:\n",
    "            result = result.replace(\"%%%\", word, 1)\n",
    "    \n",
    "        # fake other names\n",
    "        for word in other_names:\n",
    "            result = result.replace(\"***\", word, 1)\n",
    "        \n",
    "        # fake parameter lists\n",
    "        for word in param_names:\n",
    "            result = result.replace(\"@@@\", word, 1)\n",
    "        \n",
    "        results.append(result)\n",
    "    \n",
    "    return results\n",
    "\n",
    "\n",
    "# keep going until they hit CTRL-D\n",
    "try:\n",
    "    while True:\n",
    "        snippets = list(PHRASES.keys())\n",
    "        random.shuffle(snippets)\n",
    "        \n",
    "        for snippet in snippets:\n",
    "            phrase = PHRASES[snippet]\n",
    "            question, answer = convert(snippet, phrase)\n",
    "            if PHRASE_FIRST:\n",
    "                question, answer = answer, question\n",
    "                print(question)\n",
    "                input(\"> \")\n",
    "                print(f\"ANSWER: {answer}\\n\\n\")\n",
    "except EOFError:\n",
    "    print(\"\\nBye\")"
   ]
  },
  {
   "cell_type": "markdown",
   "metadata": {},
   "source": [
    "#### Explanation of the program"
   ]
  },
  {
   "cell_type": "markdown",
   "metadata": {},
   "source": [
    "_import_ : It is used when you already selected the library, you can select a command of that.\n",
    "\n",
    "_from_ : It is to select one library of Python.\n",
    "\n",
    "_if_ : It is used to make decisions, this basically evaluates a logical operation.\n",
    "\n",
    "_else_ : It allows a program to execute instructions when a condition is met and other instructions when that condition is not met.\n",
    "\n",
    "_for_ : It is responsible for creating a loop with a certain range that limits it.\n",
    "\n",
    "_def_ : It is to give to a variable a function such as a mathematical operation.\n",
    "\n",
    "_try_ : It allows you to catch exceptions and, as a result, respond without the program failing.\n",
    "\n",
    "_except_ : It is responsible for capturing the exception and gives us the opportunity to process it by displaying."
   ]
  },
  {
   "cell_type": "markdown",
   "metadata": {},
   "source": [
    "## EXERCISE 42"
   ]
  },
  {
   "cell_type": "markdown",
   "metadata": {},
   "source": [
    "## Is-A, Has-A, Objects, and Classes"
   ]
  },
  {
   "cell_type": "markdown",
   "metadata": {},
   "source": [
    "In this program we are going to see the difference between a class and an object.I mean this does not have a great difference but it has it. It is how say the diffence between a fish and a salmon. To understand better I'm going to tell you some kind of \n",
    "explanation\n",
    "\n",
    "There are two kind of phrases, the first one is ”is-a” and it's useful when you talk about objects and classes being related to each other by a class relationship.The second one is \"has-a\" and it's useful when you talk about objects and classes that are related only because they reference each other."
   ]
  },
  {
   "cell_type": "markdown",
   "metadata": {},
   "source": [
    "### What is an object? And what is a class? \n",
    "An object represents an individual and identifiable element, or a real or abstract entity, with a defined role in the problem domain.\n",
    "A class is a set of objects that share a common structure and behavior."
   ]
  },
  {
   "cell_type": "markdown",
   "metadata": {},
   "source": [
    "### This is an example of the  exercise 42"
   ]
  },
  {
   "cell_type": "code",
   "execution_count": null,
   "metadata": {},
   "outputs": [],
   "source": [
    "## Animal is-a object (yes, sort of confusing) look at the extra credit\n",
    "class Animal(object):\n",
    "pass\n",
    "\n",
    "## ??\n",
    "class Dog(Animal):\n",
    "\n",
    "def __init__(self, name):\n",
    "## ??\n",
    "self.name = name\n",
    "\n",
    "## ??\n",
    "class Cat(Animal):\n",
    "\n",
    "def __init__(self, name):\n",
    "## ??\n",
    "self.name = name\n",
    "\n",
    "## ??\n",
    "class Person(object):\n",
    "\n",
    "def __init__(self, name):\n",
    "## ??\n",
    "self.name = name\n",
    "\n",
    "## Person has-a pet of some kind\n",
    "self.pet = None\n",
    "\n",
    "## ??\n",
    "class Employee(Person):\n",
    "\n",
    "def __init__(self, name, salary):\n",
    "## ?? hmm what is this strange magic?\n",
    "super(Employee, self).__init__(name)\n",
    "## ??\n",
    "self.salary = salary\n",
    "\n",
    "## ??\n",
    "class Fish(object):\n",
    "pass\n",
    "\n",
    "## ??\n",
    "class Salmon(Fish):\n",
    "pass\n",
    "## ??\n",
    "class Halibut(Fish):\n",
    "pass\n",
    "\n",
    "## rover is-a Dog\n",
    "rover = Dog(\"Rover\")\n",
    "## ??\n",
    "satan = Cat(\"Satan\")\n",
    "## ??\n",
    "mary = Person(\"Mary\")\n",
    "## ??\n",
    "mary.pet = satan\n",
    "## ??\n",
    "frank = Employee(\"Frank\", 120000)\n",
    "## ??\n",
    "frank.pet = rover\n",
    "## ??\n",
    "flipper = Fish()\n",
    "## ??\n",
    "crouse = Salmon()\n",
    "## ??\n",
    "harry = Halibut()"
   ]
  },
  {
   "cell_type": "markdown",
   "metadata": {},
   "source": [
    "Now, go through this piece of code and replace each ##?? comment with a comment that says whether\n",
    "the next line represents an is-a or a has-a relationship and what that relationship is."
   ]
  },
  {
   "cell_type": "code",
   "execution_count": null,
   "metadata": {},
   "outputs": [],
   "source": [
    "## Animal is-a object (yes, sort of confusing) look at the extra credit\n",
    "class Animal(object):\n",
    "pass\n",
    "\n",
    "## Dog is-a pet of  animal.\n",
    "class Dog(Animal):\n",
    "\n",
    "def __init__(self, name):\n",
    "## Name has-a because of pet's name.\n",
    "self.name = name\n",
    "\n",
    "## A cat is-a from an amimal.\n",
    "class Cat(Animal):\n",
    "\n",
    "def __init__(self, name):\n",
    "self.name = name\n",
    "\n",
    "## Person has-a from a name\n",
    "class Person(object):\n",
    "\n",
    "def __init__(self, name):\n",
    "\n",
    "self.name = name\n",
    "\n",
    "## Person has-a pet of some kind\n",
    "self.pet = None\n",
    "\n",
    "## Employee has-a relationship with the person,you must be a person to be an employee\n",
    "class Employee(Person):\n",
    "\n",
    "def __init__(self, name, salary):\n",
    "## ?? hmm what is this strange magic?\n",
    "super(Employee, self).__init__(name)\n",
    "## Salary is-a from an employee\n",
    "self.salary = salary\n",
    "\n",
    "## Fish is-a from an object\n",
    "class Fish(object):\n",
    "pass\n",
    "\n",
    "## Salmon is-a from the fish\n",
    "class Salmon(Fish):\n",
    "pass\n",
    "## Salmon has-a from the salmon\n",
    "class Halibut(Fish):\n",
    "pass\n",
    "\n",
    "## rover is-a Dog\n",
    "rover = Dog(\"Rover\")\n",
    "## satan is-a Cat\n",
    "satan = Cat(\"Satan\")\n",
    "## mary is-a Person\n",
    "mary = Person(\"Mary\")\n",
    "## mary. pet has-a satan\n",
    "mary.pet = satan\n",
    "## frank is-a Employee\n",
    "frank = Employee(\"Frank\", 120000)\n",
    "## frank.pet has-a rover\n",
    "frank.pet = rover\n",
    "## flipper has-a fish\n",
    "flipper = Fish()\n",
    "## crouse is-a salmon\n",
    "crouse = Salmon()\n",
    "## harry has-a Halibut\n",
    "harry = Halibut()"
   ]
  },
  {
   "cell_type": "markdown",
   "metadata": {},
   "source": [
    "The only thing that you should do in these case is thinking of class Name(object) as saying ”this is a basic simple\n",
    "class” and you’ll be fine.\n"
   ]
  },
  {
   "cell_type": "markdown",
   "metadata": {},
   "source": [
    "## EXERCISE 43"
   ]
  },
  {
   "cell_type": "markdown",
   "metadata": {},
   "source": [
    "## Basic Object-Oriented Analysis and Design"
   ]
  },
  {
   "cell_type": "markdown",
   "metadata": {},
   "source": [
    "Object-oriented Analysis (OOA) is the process of looking at a problem, system, or task that somebody wants to turn into an application and identifying the objects and interactions between those objects.\n",
    "\n",
    "Object-oriented Design (OOD) is the process of converting such requirements into an implementation specification. "
   ]
  },
  {
   "cell_type": "markdown",
   "metadata": {},
   "source": [
    "### This is an example of the  exercise 43"
   ]
  },
  {
   "cell_type": "code",
   "execution_count": null,
   "metadata": {},
   "outputs": [],
   "source": [
    "from sys import exit\n",
    "from random import randint \n",
    "from textwrap import dedent\n",
    "\n",
    "class Scene(object):\n",
    "    def enter(self):\n",
    "    print(\"This scene is not yet configured.\")\n",
    "    print(\"Subclass it and implement enter().\")\n",
    "    exit(1)\n",
    "    \n",
    "class Engine(object):\n",
    "\n",
    "    def __init__(self, scene_map):\n",
    "    self.scene_map = scene_map\n",
    "\n",
    "    def play(self):\n",
    "    current_scene = self.scene_map.opening_scene()\n",
    "    last_scene = self.scene_map.next_scene('finished')\n",
    "\n",
    "    while current_scene != last_scene:\n",
    "    next_scene_name = current_scene.enter()\n",
    "    current_scene = self.scene_map.next_scene(next_scene_name)\n",
    "\n",
    "     # be sure to print out the last scene\n",
    "    current_scene.enter() \n",
    "    \n",
    "class Death(Scene):\n",
    "\n",
    "    quips = [\"You died. You kinda suck at this.\",\n",
    "           \"Your Mom would be proud...if she were smarter.\",\n",
    "            \"Such a luser.\",\n",
    "            \"I have a small puppy that's better at this.\",\n",
    "            \"You're worse than your Dad's jokes.\"\n",
    "             ]\n",
    "\n",
    "     def enter(self):\n",
    "    print(Death.quips[randint(0, len(self.quips)-1)])\n",
    "    exit(1)\n",
    "    \n",
    "class CentralCorridor(Scene):\n",
    "\n",
    "     def enter(self):\n",
    "    print(dedent(\"\"\"The Gothons of Planet Percal #25 have invaded your ship and\n",
    "                destroyed your entire crew. You are the last surviving\n",
    "                member and your last mission is to get the neutron destruct\n",
    "                bomb from the Weapons Armory, put it in the bridge, and\n",
    "                blow the ship up after getting into an escape pod.\n",
    "\n",
    "                You're running down the central corridor to the Weapons\n",
    "                Armory when a Gothon jumps out, red scaly skin, dark grimy\n",
    "                teeth, and evil clown costume flowing around his hate\n",
    "                filled body. He's blocking the door to the Armory and\n",
    "                about to pull a weapon to blast you. \"\"\"))\n",
    "    \n",
    "    action = input(\"> \")\n",
    "\n",
    "     if action == \"shoot!\":\n",
    "        print(dedent(\"\"\"Quick on the draw you yank out your blaster and fire\n",
    "                    it at the Gothon. His clown costume is flowing and\n",
    "                    moving around his body, which throws off your aim.\n",
    "                    Your laser hits his costume but misses him entirely.\n",
    "                    This completely ruins his brand new costume his mother\n",
    "                    bought him, which makes him fly into an insane rage\n",
    "                    and blast you repeatedly in the face until you are\n",
    "                    dead. Then he eats you.  \"\"\"))\n",
    "                 return 'death'\n",
    " \n",
    "    elif action == \"dodge!\":\n",
    "    print(dedent(\"\"\"Like a world class boxer you dodge, weave, slip and\n",
    "               slide right as the Gothon's blaster cranks a laser\n",
    "               past your head. In the middle of your artful dodge\n",
    "               your foot slips and you bang your head on the metal\n",
    "               wall and pass out. You wake up shortly after only to\n",
    "               die as the Gothon stomps on your head and eats you.\"\"\"))\n",
    "           return 'death'\n",
    "\n",
    "elif action == \"tell a joke\":\n",
    "    print(dedent(\"\"\" Lucky for you they made you learn Gothon insults in\n",
    "             the academy. You tell the one Gothon joke you know:\n",
    "             Lbhe zbgure vf fb sng, jura fur fvgf nebhaq gur ubhfr,\n",
    "             fur fvgf nebhaq gur ubhfr. The Gothon stops, tries\n",
    "             not to laugh, then busts out laughing and can't move.\n",
    "             While he's laughing you run up and shoot him square in\n",
    "             the head putting him down, then jump through the\n",
    "             Weapon Armory door. \"\"\"))\n",
    "          return 'laser_weapon_armory'\n",
    "\n",
    "else:\n",
    "    print(\"DOES NOT COMPUTE!\")\n",
    "    return 'central_corridor'\n",
    "\n",
    "\n",
    "class LaserWeaponArmory(Scene):\n",
    "\n",
    "     def enter(self):\n",
    "    print(dedent(\"\"\"You do a dive roll into the Weapon Armory, crouch and scan\n",
    "               the room for more Gothons that might be hiding. It's dead\n",
    "               quiet, too quiet. You stand up and run to the far side of\n",
    "               the room and find the neutron bomb in its container.\n",
    "               There's a keypad lock on the box and you need the code to\n",
    "               get the bomb out. If you get the code wrong 10 times then\n",
    "               the lock closes forever and you can't get the bomb. The\n",
    "               code is 3 digits.\"\"\"))\n",
    "    \n",
    "     code = f\"{randint(1,9)}{randint(1,9)}{randint(1,9)}\"\n",
    "    guess = input(\"[keypad]> \")\n",
    "    guesses = 0\n",
    "\n",
    "    while guess != code and guesses < 10:\n",
    "    print(\"BZZZZEDDD!\")\n",
    "    guesses += 1\n",
    "    guess = input(\"[keypad]> \")\n",
    "\n",
    "    if guess == code:\n",
    "    print(dedent(\"\"\"The container clicks open and the seal breaks, letting\n",
    "             gas out. You grab the neutron bomb and run as fast as\n",
    "             you can to the bridge where you must place it in the\n",
    "             right spot. \"\"\"))\n",
    "     return 'the_bridge'\n",
    "    \n",
    "    else:\n",
    " print(dedent(\"\"\"\n",
    " The lock buzzes one last time and then you hear a\n",
    " sickening melting sound as the mechanism is fused\n",
    " together. You decide to sit there, and finally the\n",
    " Gothons blow up the ship from their ship and you die.\n",
    " \"\"\"))\n",
    "     return 'death'\n",
    "\n",
    "class TheBridge(Scene):\n",
    "\n",
    "    def enter(self):\n",
    "    print(dedent(\"\"\"\n",
    " You burst onto the Bridge with the netron destruct bomb\n",
    " under your arm and surprise 5 Gothons who are trying to\n",
    " take control of the ship. Each of them has an even uglier\n",
    " clown costume than the last. They haven't pulled their\n",
    " weapons out yet, as they see the active bomb under your\n",
    " arm and don't want to set it off. \"\"\"))\n",
    "\n",
    "    action = input(\"> \")\n",
    " \n",
    " if action == \"throw the bomb\":\n",
    "    \n",
    "    print(dedent(\"\"\" In a panic you throw the bomb at the group of Gothons\n",
    " and make a leap for the door. Right as you drop it a\n",
    " Gothon shoots you right in the back killing you. As\n",
    " you die you see another Gothon frantically try to\n",
    " disarm the bomb. You die knowing they will probably\n",
    " blow up when it goes off. \"\"\"))\n",
    "    return 'death'\n",
    "\n",
    " elif action == \"slowly place the bomb\":\n",
    " print(dedent(\"\"\" You point your blaster at the bomb under your arm and\n",
    " the Gothons put their hands up and start to sweat.\n",
    " You inch backward to the door, open it, and then\n",
    " carefully place the bomb on the floor, pointing your\n",
    " blaster at it. You then jump back through the door,\n",
    " punch the close button and blast the lock so the\n",
    " Gothons can't get out. Now that the bomb is placed\n",
    " you run to the escape pod to get off this tin can. \"\"\"))\n",
    "\n",
    "\n",
    "return 'escape_pod'\n",
    " else:\n",
    "    print(\"DOES NOT COMPUTE!\")\n",
    "     return \"the_bridge\"\n",
    "\n",
    "\n",
    "class EscapePod(Scene):\n",
    "\n",
    "    def enter(self):\n",
    "    print(dedent(\"\"\"You rush through the ship desperately trying to make it to\n",
    " the escape pod before the whole ship explodes. It seems\n",
    " like hardly any Gothons are on the ship, so your run is\n",
    " clear of interference. You get to the chamber with the\n",
    " escape pods, and now need to pick one to take. Some of\n",
    "them could be damaged but you don't have time to look.\n",
    " There's 5 pods, which one do you take? \"\"\"))\n",
    "\n",
    "\n",
    "    good_pod = randint(1,5)\n",
    "    guess = input(\"[pod #]> \")\n",
    "\n",
    "    if int(guess) != good_pod:\n",
    "    print(dedent(\"\"\" You jump into pod {guess} and hit the eject button.\n",
    " The pod escapes out into the void of space, then\n",
    " implodes as the hull ruptures, crushing your body into\n",
    " jam jelly. \"\"\"))\n",
    "    return 'death'\n",
    " \n",
    "    else:\n",
    "    print(dedent(\"\"\" You jump into pod {guess} and hit the eject button.\n",
    " The pod easily slides out into space heading to the\n",
    " planet below. As it flies to the planet, you look\n",
    " back and see your ship implode then explode like a\n",
    " bright star, taking out the Gothon ship at the same\n",
    " time. You won! \"\"\"))\n",
    "\n",
    "return 'finished'\n",
    "\n",
    "class Finished(Scene):\n",
    "\n",
    "    def enter(self):\n",
    "    print(\"You won! Good job.\")\n",
    "    return 'finished'\n",
    "class Map(object):\n",
    "\n",
    "    scenes = {\n",
    " 'central_corridor': CentralCorridor(),\n",
    " 'laser_weapon_armory': LaserWeaponArmory(),\n",
    " 'the_bridge': TheBridge(),\n",
    " 'escape_pod': EscapePod(),\n",
    " 'death': Death(),\n",
    " 'finished': Finished(),\n",
    "  }\n",
    "\n",
    "    def __init__(self, start_scene):\n",
    "    self.start_scene = start_scene\n",
    "\n",
    "    def next_scene(self, scene_name):\n",
    "    val = Map.scenes.get(scene_name)\n",
    "    return val\n",
    "\n",
    "      def opening_scene(self):\n",
    "        return self.next_scene(self.start_scene)"
   ]
  },
  {
   "cell_type": "markdown",
   "metadata": {},
   "source": [
    "#### The user must be something like this:"
   ]
  },
  {
   "cell_type": "code",
   "execution_count": null,
   "metadata": {},
   "outputs": [],
   "source": [
    "python3.6 ex43.py\n",
    "The Gothons of Planet Percal #25 have invaded your ship and\n",
    "destroyed your entire crew. You are the last surviving\n",
    "member and your last mission is to get the neutron destruct\n",
    "bomb from the Weapons Armory, put it in the bridge, and\n",
    "blow the ship up after getting into an escape pod.\n",
    "You're running down the central corridor to the Weapons\n",
    "Armory when a Gothon jumps out, red scaly skin, dark grimy\n",
    "teeth, and evil clown costume flowing around his hate\n",
    "filled body. He's blocking the door to the Armory and about to pull a weapon to blast you.\n",
    "> dodge!\n",
    "Like a world class boxer you dodge, weave, slip and\n",
    "slide right as the Gothon's blaster cranks a laser\n",
    "past your head. In the middle of your artful dodge\n",
    "your foot slips and you bang your head on the metal\n",
    "wall and pass out. You wake up shortly after only to\n",
    "die as the Gothon stomps on your head and eats you.\n",
    "Such a luser.\n"
   ]
  },
  {
   "cell_type": "markdown",
   "metadata": {},
   "source": [
    "#### Explanation of the program"
   ]
  },
  {
   "cell_type": "markdown",
   "metadata": {},
   "source": [
    "The first lines are the basic import of the game.\n",
    "\n",
    "In the class base, _Scene_  will have the common things that\n",
    "all scenes do. \n",
    "\n",
    "And also the program has the  _Engine_  class and here the author uses the methods for _Map.opening_scene_\n",
    "\n",
    "The class _death_ shows you the simplest kind of scene you can write.\n",
    "\n",
    "The _CentralCorridor_ is the beginning of the game.\n",
    "\n",
    "After that is the rest of the game’s scenes.\n",
    "\n",
    "And finally, the _Map class_  that is storing each scene by name in a dictionary and then the author refers to that dict with _Map.scenes_."
   ]
  },
  {
   "cell_type": "markdown",
   "metadata": {},
   "source": [
    "# MEC 3B"
   ]
  },
  {
   "cell_type": "markdown",
   "metadata": {},
   "source": [
    "## Name Student:"
   ]
  },
  {
   "cell_type": "markdown",
   "metadata": {},
   "source": [
    "#### • Galindo Torres Francisco Alonso\n",
    "#### • Martínez Martínez Lisset Vianey \n",
    "#### • Medina Galicia Diego Armando"
   ]
  },
  {
   "cell_type": "code",
   "execution_count": null,
   "metadata": {},
   "outputs": [],
   "source": []
  }
 ],
 "metadata": {
  "kernelspec": {
   "display_name": "Python 3",
   "language": "python",
   "name": "python3"
  },
  "language_info": {
   "codemirror_mode": {
    "name": "ipython",
    "version": 3
   },
   "file_extension": ".py",
   "mimetype": "text/x-python",
   "name": "python",
   "nbconvert_exporter": "python",
   "pygments_lexer": "ipython3",
   "version": "3.7.3"
  }
 },
 "nbformat": 4,
 "nbformat_minor": 2
}
