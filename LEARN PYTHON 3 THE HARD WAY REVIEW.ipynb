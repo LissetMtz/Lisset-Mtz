{
 "cells": [
  {
   "cell_type": "markdown",
   "metadata": {},
   "source": [
    "# LEARN PYTHON 3 THE HARD WAY"
   ]
  },
  {
   "cell_type": "markdown",
   "metadata": {},
   "source": [
    "## *REVIEW*"
   ]
  },
  {
   "cell_type": "markdown",
   "metadata": {},
   "source": [
    " #### INTRODUCTION"
   ]
  },
  {
   "cell_type": "markdown",
   "metadata": {},
   "source": [
    "The book explains how to start programming quickly with many examples, starting in how to install, to open\n",
    "and run the program.\n",
    "It has the advantage to explain in two differents operative systems what you have (macOS and Windows), furthermore you can train with Study Drills and finally you can check the common that the students ask about the program in a special section called Common Student Question."
   ]
  },
  {
   "cell_type": "markdown",
   "metadata": {},
   "source": [
    "### A Good First Program"
   ]
  },
  {
   "cell_type": "markdown",
   "metadata": {},
   "source": [
    "The first exercise that the book has is about how to create a first good program, this is important to be able to start with everything related to python programming, so the first program that the writer shows is the famous \"Hello World\"."
   ]
  },
  {
   "cell_type": "code",
   "execution_count": 1,
   "metadata": {},
   "outputs": [
    {
     "name": "stdout",
     "output_type": "stream",
     "text": [
      "¡Hello World!\n"
     ]
    }
   ],
   "source": [
    "print (\"¡Hello World!\")"
   ]
  },
  {
   "cell_type": "markdown",
   "metadata": {},
   "source": [
    "### Comments and Pound Characters"
   ]
  },
  {
   "cell_type": "markdown",
   "metadata": {},
   "source": [
    "Comments are something very important for any programmer, because it is a very easy way to understand and that other people understand what was done in that line of the code, this also helps if you have a line in your code which does not work or you are not sure if it should be there, and you don't want to delete it so you add it as a comment in case in the future it can help you."
   ]
  },
  {
   "cell_type": "code",
   "execution_count": 2,
   "metadata": {},
   "outputs": [
    {
     "name": "stdout",
     "output_type": "stream",
     "text": [
      "2+5<3+5 15 is true or false?\n",
      "True\n"
     ]
    }
   ],
   "source": [
    "print(\"2+5<3+5 15 is true or false?\") #This is a comment\n",
    "print (2+5<3+5)"
   ]
  },
  {
   "cell_type": "markdown",
   "metadata": {},
   "source": [
    "### Numbers and Math"
   ]
  },
  {
   "cell_type": "markdown",
   "metadata": {},
   "source": [
    "In this third exercise, the writer talks about the different symbols that exist in this programming language, which is a very important tool to be able to perform both basic and even more complex operations."
   ]
  },
  {
   "cell_type": "code",
   "execution_count": 3,
   "metadata": {},
   "outputs": [
    {
     "name": "stdout",
     "output_type": "stream",
     "text": [
      "4\n",
      "-1\n",
      "2.0\n",
      "8\n"
     ]
    }
   ],
   "source": [
    "print (2 + 2) # Sum\n",
    "print (2 - 3) #Rest\n",
    "print (8 / 4) #Divison\n",
    "print ( 4 * 2) #Multiplication"
   ]
  },
  {
   "cell_type": "code",
   "execution_count": null,
   "metadata": {},
   "outputs": [],
   "source": []
  }
 ],
 "metadata": {
  "kernelspec": {
   "display_name": "Python 3",
   "language": "python",
   "name": "python3"
  },
  "language_info": {
   "codemirror_mode": {
    "name": "ipython",
    "version": 3
   },
   "file_extension": ".py",
   "mimetype": "text/x-python",
   "name": "python",
   "nbconvert_exporter": "python",
   "pygments_lexer": "ipython3",
   "version": "3.7.3"
  }
 },
 "nbformat": 4,
 "nbformat_minor": 2
}
